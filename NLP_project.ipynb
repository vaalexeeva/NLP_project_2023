{
 "cells": [
  {
   "cell_type": "markdown",
   "id": "00bcb3c1",
   "metadata": {
    "cellId": "1cc0zxg1226p5sbr605q4",
    "execution_id": "c75c3582-c0d9-4612-8f03-ff667bb730b5"
   },
   "source": [
    "# Подключаем библиотеки"
   ]
  },
  {
   "cell_type": "code",
   "execution_count": 270,
   "id": "cc9eb172",
   "metadata": {
    "cellId": "yilz9386r33u8gbqp8wi3"
   },
   "outputs": [
    {
     "name": "stderr",
     "output_type": "stream",
     "text": [
      "/usr/local/lib/python3.10/dist-packages/torch/cuda/__init__.py:546: UserWarning: Can't initialize NVML\n",
      "  warnings.warn(\"Can't initialize NVML\")\n",
      "2023-12-26 15:21:43.497210: I tensorflow/core/util/port.cc:110] oneDNN custom operations are on. You may see slightly different numerical results due to floating-point round-off errors from different computation orders. To turn them off, set the environment variable `TF_ENABLE_ONEDNN_OPTS=0`.\n",
      "2023-12-26 15:21:44.940967: I tensorflow/core/platform/cpu_feature_guard.cc:182] This TensorFlow binary is optimized to use available CPU instructions in performance-critical operations.\n",
      "To enable the following instructions: AVX2 AVX512F AVX512_VNNI FMA, in other operations, rebuild TensorFlow with the appropriate compiler flags.\n",
      "2023-12-26 15:21:49.481446: W tensorflow/compiler/tf2tensorrt/utils/py_utils.cc:38] TF-TRT Warning: Could not find TensorRT\n",
      "2023-12-26 15:21:58.008938: E tensorflow/compiler/xla/stream_executor/cuda/cuda_driver.cc:266] failed call to cuInit: CUDA_ERROR_NO_DEVICE: no CUDA-capable device is detected\n"
     ]
    }
   ],
   "source": [
    "import numpy as np\n",
    "import pandas as pd\n",
    "import fasttext.util\n",
    "from sklearn.ensemble import RandomForestClassifier\n",
    "import torch\n",
    "import torch.nn as nn\n",
    "from torch.utils.data import DataLoader\n",
    "import time\n",
    "from torch.autograd import Variable\n",
    "from matplotlib import pyplot as plt\n",
    "import spacy"
   ]
  },
  {
   "cell_type": "markdown",
   "id": "be2e765d",
   "metadata": {
    "cellId": "5swjasv17v26orrhfd1zpa",
    "execution_id": "9228d9e3-3a97-42e2-aeda-2a6ab2a0e189"
   },
   "source": [
    "# Данные"
   ]
  },
  {
   "cell_type": "markdown",
   "id": "18f031fa",
   "metadata": {
    "cellId": "2m6g8ls468tv5d8wk7bwp",
    "execution_id": "f83212a0-9332-4b0d-a04b-6005b3025f66"
   },
   "source": [
    "## Скачиваем датасет"
   ]
  },
  {
   "cell_type": "code",
   "execution_count": 196,
   "id": "2d87484a",
   "metadata": {
    "cellId": "4uyapk7tlpn2neidihrlj2"
   },
   "outputs": [],
   "source": [
    "train_data = pd.read_csv('SMS_train.csv',encoding='latin1')\n",
    "test_data = pd.read_csv('SMS_test.csv',encoding='latin1')"
   ]
  },
  {
   "cell_type": "code",
   "execution_count": 198,
   "id": "ce8fdfce",
   "metadata": {
    "cellId": "l6xl34wzxmdnd4do5daaf"
   },
   "outputs": [],
   "source": [
    "X_train = np.array([train_data[\"Message_body\"][i] for i in range(len(train_data))])\n",
    "y_train = np.array([int(train_data[\"Label\"][i] == \"Spam\")  for i in range(len(train_data))])\n",
    "X_test = np.array([test_data[\"Message_body\"][i] for i in range(len(test_data))])\n",
    "y_test = np.array([int(test_data[\"Label\"][i] == \"Spam\") for i in range(len(test_data))])"
   ]
  },
  {
   "cell_type": "markdown",
   "id": "51b7d633",
   "metadata": {
    "cellId": "jxt2njpdgqj5ykm7x05qzf",
    "execution_id": "02913271-6060-4625-9b36-254a148fff8f"
   },
   "source": [
    "## Смотрим на датасет"
   ]
  },
  {
   "cell_type": "markdown",
   "id": "0998b7f9",
   "metadata": {
    "cellId": "10cmqnm6tu2viz79gslg6",
    "execution_id": "ce9def71-f6f3-48cb-bfa9-317f42aa48a8"
   },
   "source": [
    "Выбранный датасет представляет собой набор электронных писем, для каждого из которых известно является ли оно спамом.\n",
    "\n",
    "Всего в обучающей выборке 957 сообщений, в тестовой - 125"
   ]
  },
  {
   "cell_type": "code",
   "execution_count": 197,
   "id": "51a58140",
   "metadata": {
    "cellId": "9le7vi7dv1rcu543yqnrlo"
   },
   "outputs": [
    {
     "data": {
      "text/html": [
       "<div>\n",
       "<style scoped>\n",
       "    .dataframe tbody tr th:only-of-type {\n",
       "        vertical-align: middle;\n",
       "    }\n",
       "\n",
       "    .dataframe tbody tr th {\n",
       "        vertical-align: top;\n",
       "    }\n",
       "\n",
       "    .dataframe thead th {\n",
       "        text-align: right;\n",
       "    }\n",
       "</style>\n",
       "<table border=\"1\" class=\"dataframe\">\n",
       "  <thead>\n",
       "    <tr style=\"text-align: right;\">\n",
       "      <th></th>\n",
       "      <th>S. No.</th>\n",
       "      <th>Message_body</th>\n",
       "      <th>Label</th>\n",
       "    </tr>\n",
       "  </thead>\n",
       "  <tbody>\n",
       "    <tr>\n",
       "      <th>0</th>\n",
       "      <td>1</td>\n",
       "      <td>Rofl. Its true to its name</td>\n",
       "      <td>Non-Spam</td>\n",
       "    </tr>\n",
       "    <tr>\n",
       "      <th>1</th>\n",
       "      <td>2</td>\n",
       "      <td>The guy did some bitching but I acted like i'd...</td>\n",
       "      <td>Non-Spam</td>\n",
       "    </tr>\n",
       "    <tr>\n",
       "      <th>2</th>\n",
       "      <td>3</td>\n",
       "      <td>Pity, * was in mood for that. So...any other s...</td>\n",
       "      <td>Non-Spam</td>\n",
       "    </tr>\n",
       "    <tr>\n",
       "      <th>3</th>\n",
       "      <td>4</td>\n",
       "      <td>Will ü b going to esplanade fr home?</td>\n",
       "      <td>Non-Spam</td>\n",
       "    </tr>\n",
       "    <tr>\n",
       "      <th>4</th>\n",
       "      <td>5</td>\n",
       "      <td>This is the 2nd time we have tried 2 contact u...</td>\n",
       "      <td>Spam</td>\n",
       "    </tr>\n",
       "    <tr>\n",
       "      <th>...</th>\n",
       "      <td>...</td>\n",
       "      <td>...</td>\n",
       "      <td>...</td>\n",
       "    </tr>\n",
       "    <tr>\n",
       "      <th>952</th>\n",
       "      <td>953</td>\n",
       "      <td>hows my favourite person today? r u workin har...</td>\n",
       "      <td>Non-Spam</td>\n",
       "    </tr>\n",
       "    <tr>\n",
       "      <th>953</th>\n",
       "      <td>954</td>\n",
       "      <td>How much you got for cleaning</td>\n",
       "      <td>Non-Spam</td>\n",
       "    </tr>\n",
       "    <tr>\n",
       "      <th>954</th>\n",
       "      <td>955</td>\n",
       "      <td>Sorry da. I gone mad so many pending works wha...</td>\n",
       "      <td>Non-Spam</td>\n",
       "    </tr>\n",
       "    <tr>\n",
       "      <th>955</th>\n",
       "      <td>956</td>\n",
       "      <td>Wat time ü finish?</td>\n",
       "      <td>Non-Spam</td>\n",
       "    </tr>\n",
       "    <tr>\n",
       "      <th>956</th>\n",
       "      <td>957</td>\n",
       "      <td>Just glad to be talking to you.</td>\n",
       "      <td>Non-Spam</td>\n",
       "    </tr>\n",
       "  </tbody>\n",
       "</table>\n",
       "<p>957 rows × 3 columns</p>\n",
       "</div>"
      ],
      "text/plain": [
       "     S. No.                                       Message_body     Label\n",
       "0         1                         Rofl. Its true to its name  Non-Spam\n",
       "1         2  The guy did some bitching but I acted like i'd...  Non-Spam\n",
       "2         3  Pity, * was in mood for that. So...any other s...  Non-Spam\n",
       "3         4               Will ü b going to esplanade fr home?  Non-Spam\n",
       "4         5  This is the 2nd time we have tried 2 contact u...      Spam\n",
       "..      ...                                                ...       ...\n",
       "952     953  hows my favourite person today? r u workin har...  Non-Spam\n",
       "953     954                      How much you got for cleaning  Non-Spam\n",
       "954     955  Sorry da. I gone mad so many pending works wha...  Non-Spam\n",
       "955     956                                 Wat time ü finish?  Non-Spam\n",
       "956     957                    Just glad to be talking to you.  Non-Spam\n",
       "\n",
       "[957 rows x 3 columns]"
      ]
     },
     "execution_count": 197,
     "metadata": {},
     "output_type": "execute_result"
    }
   ],
   "source": [
    "train_data"
   ]
  },
  {
   "cell_type": "code",
   "execution_count": 258,
   "id": "4549f7d1",
   "metadata": {
    "cellId": "892u4la0gf5bts42rv4kj"
   },
   "outputs": [
    {
     "data": {
      "text/html": [
       "<div>\n",
       "<style scoped>\n",
       "    .dataframe tbody tr th:only-of-type {\n",
       "        vertical-align: middle;\n",
       "    }\n",
       "\n",
       "    .dataframe tbody tr th {\n",
       "        vertical-align: top;\n",
       "    }\n",
       "\n",
       "    .dataframe thead th {\n",
       "        text-align: right;\n",
       "    }\n",
       "</style>\n",
       "<table border=\"1\" class=\"dataframe\">\n",
       "  <thead>\n",
       "    <tr style=\"text-align: right;\">\n",
       "      <th></th>\n",
       "      <th>S. No.</th>\n",
       "      <th>Message_body</th>\n",
       "      <th>Label</th>\n",
       "    </tr>\n",
       "  </thead>\n",
       "  <tbody>\n",
       "    <tr>\n",
       "      <th>0</th>\n",
       "      <td>1</td>\n",
       "      <td>UpgrdCentre Orange customer, you may now claim...</td>\n",
       "      <td>Spam</td>\n",
       "    </tr>\n",
       "    <tr>\n",
       "      <th>1</th>\n",
       "      <td>2</td>\n",
       "      <td>Loan for any purpose £500 - £75,000. Homeowner...</td>\n",
       "      <td>Spam</td>\n",
       "    </tr>\n",
       "    <tr>\n",
       "      <th>2</th>\n",
       "      <td>3</td>\n",
       "      <td>Congrats! Nokia 3650 video camera phone is you...</td>\n",
       "      <td>Spam</td>\n",
       "    </tr>\n",
       "    <tr>\n",
       "      <th>3</th>\n",
       "      <td>4</td>\n",
       "      <td>URGENT! Your Mobile number has been awarded wi...</td>\n",
       "      <td>Spam</td>\n",
       "    </tr>\n",
       "    <tr>\n",
       "      <th>4</th>\n",
       "      <td>5</td>\n",
       "      <td>Someone has contacted our dating service and e...</td>\n",
       "      <td>Spam</td>\n",
       "    </tr>\n",
       "    <tr>\n",
       "      <th>...</th>\n",
       "      <td>...</td>\n",
       "      <td>...</td>\n",
       "      <td>...</td>\n",
       "    </tr>\n",
       "    <tr>\n",
       "      <th>120</th>\n",
       "      <td>121</td>\n",
       "      <td>7 wonders in My WORLD 7th You 6th Ur style 5th...</td>\n",
       "      <td>Non-Spam</td>\n",
       "    </tr>\n",
       "    <tr>\n",
       "      <th>121</th>\n",
       "      <td>122</td>\n",
       "      <td>Try to do something dear. You read something f...</td>\n",
       "      <td>Non-Spam</td>\n",
       "    </tr>\n",
       "    <tr>\n",
       "      <th>122</th>\n",
       "      <td>123</td>\n",
       "      <td>Sun ah... Thk mayb can if dun have anythin on....</td>\n",
       "      <td>Non-Spam</td>\n",
       "    </tr>\n",
       "    <tr>\n",
       "      <th>123</th>\n",
       "      <td>124</td>\n",
       "      <td>SYMPTOMS when U are in love: \"1.U like listeni...</td>\n",
       "      <td>Non-Spam</td>\n",
       "    </tr>\n",
       "    <tr>\n",
       "      <th>124</th>\n",
       "      <td>125</td>\n",
       "      <td>Great. Have a safe trip. Dont panic surrender ...</td>\n",
       "      <td>Non-Spam</td>\n",
       "    </tr>\n",
       "  </tbody>\n",
       "</table>\n",
       "<p>125 rows × 3 columns</p>\n",
       "</div>"
      ],
      "text/plain": [
       "     S. No.                                       Message_body     Label\n",
       "0         1  UpgrdCentre Orange customer, you may now claim...      Spam\n",
       "1         2  Loan for any purpose £500 - £75,000. Homeowner...      Spam\n",
       "2         3  Congrats! Nokia 3650 video camera phone is you...      Spam\n",
       "3         4  URGENT! Your Mobile number has been awarded wi...      Spam\n",
       "4         5  Someone has contacted our dating service and e...      Spam\n",
       "..      ...                                                ...       ...\n",
       "120     121  7 wonders in My WORLD 7th You 6th Ur style 5th...  Non-Spam\n",
       "121     122  Try to do something dear. You read something f...  Non-Spam\n",
       "122     123  Sun ah... Thk mayb can if dun have anythin on....  Non-Spam\n",
       "123     124  SYMPTOMS when U are in love: \"1.U like listeni...  Non-Spam\n",
       "124     125  Great. Have a safe trip. Dont panic surrender ...  Non-Spam\n",
       "\n",
       "[125 rows x 3 columns]"
      ]
     },
     "execution_count": 258,
     "metadata": {},
     "output_type": "execute_result"
    }
   ],
   "source": [
    "test_data"
   ]
  },
  {
   "cell_type": "markdown",
   "id": "40f5640a",
   "metadata": {
    "cellId": "848hfmqpicp0dy5pv1o3vz6",
    "execution_id": "09c7490b-c611-4e36-a609-814049164ed0"
   },
   "source": [
    "Также посмотрим, что наблюдается сильный дизбаланс"
   ]
  },
  {
   "cell_type": "code",
   "execution_count": 269,
   "id": "589897e6",
   "metadata": {
    "cellId": "2bij08qhew9yy0ilt828n"
   },
   "outputs": [
    {
     "data": {
      "image/png": "[encoded data removed]",
      "text/plain": [
       "<Figure size 432x288 with 1 Axes>"
      ]
     },
     "metadata": {
      "needs_background": "light"
     },
     "output_type": "display_data"
    }
   ],
   "source": [
    "plt.bar([0, 1], [sum(y_train == 0), sum(y_train == 1)])\n",
    "plt.xticks([0, 1])\n",
    "plt.show()"
   ]
  },
  {
   "cell_type": "markdown",
   "id": "4e4588bc",
   "metadata": {
    "cellId": "uo10wjq811dyxxeo5vryxi",
    "execution_id": "2e86a8cf-2fae-48de-a9e0-9fe1fd6366ad"
   },
   "source": [
    "## Примеры спам и не спам сообщений"
   ]
  },
  {
   "cell_type": "code",
   "execution_count": 200,
   "id": "157e683c",
   "metadata": {
    "cellId": "agz9j7olmll8gbiksfi4kh"
   },
   "outputs": [
    {
     "name": "stdout",
     "output_type": "stream",
     "text": [
      "Spam examples:\n",
      "\n",
      "This is the 2nd time we have tried 2 contact u. U have won the £750 Pound prize. 2 claim is easy, call 087187272008 NOW1! Only 10p per minute. BT-national-rate.\n",
      "\n",
      "REMINDER FROM O2: To get 2.50 pounds free call credit and details of great offers pls reply 2 this text with your valid name, house no and postcode\n",
      "\n",
      "ASKED 3MOBILE IF 0870 CHATLINES INCLU IN FREE MINS. INDIA CUST SERVs SED YES. L8ER GOT MEGA BILL. 3 DONT GIV A SHIT. BAILIFF DUE IN DAYS. I O £250 3 WANT £800\n",
      "\n",
      "Want explicit SEX in 30 secs? Ring 02073162414 now! Costs 20p/min Gsex POBOX 2667 WC1N 3XX\n",
      "\n",
      "PRIVATE! Your 2003 Account Statement for shows 800 un-redeemed S.I.M. points. Call 08718738001 Identifier Code: 49557 Expires 26/11/04\n",
      "\n",
      "\n",
      "\n",
      "Not spam examples:\n",
      "\n",
      "Rofl. Its true to its name\n",
      "\n",
      "The guy did some bitching but I acted like i'd be interested in buying something else next week and he gave it to us for free\n",
      "\n",
      "Pity, * was in mood for that. So...any other suggestions?\n",
      "\n",
      "Will ü b going to esplanade fr home?\n",
      "\n",
      "Huh y lei...\n",
      "\n"
     ]
    }
   ],
   "source": [
    "count = 0\n",
    "print(\"Spam examples:\\n\")\n",
    "for i in range(X_train.shape[0]):\n",
    "    if y_train[i] :\n",
    "        print(X_train[i])\n",
    "        print()\n",
    "        count += 1\n",
    "        if count == 5:\n",
    "            break\n",
    "\n",
    "count = 0\n",
    "print(\"\\n\\nNot spam examples:\\n\")\n",
    "for i in range(X_train.shape[0]):\n",
    "    if not y_train[i] :\n",
    "        print(X_train[i])\n",
    "        print()\n",
    "        count += 1\n",
    "        if count == 5:\n",
    "            break"
   ]
  },
  {
   "cell_type": "markdown",
   "id": "4406a7ee",
   "metadata": {
    "cellId": "jcr0ri3oo9hj6p76sul1wa",
    "execution_id": "a07472cb-af22-40f8-864a-b85b2a52ce4d"
   },
   "source": [
    "# Чистка"
   ]
  },
  {
   "cell_type": "code",
   "execution_count": 271,
   "id": "7bcf7072",
   "metadata": {
    "cellId": "lx1v3mj2hvfjqa1uat81i"
   },
   "outputs": [],
   "source": [
    "nlp = spacy.load('en_core_web_sm')"
   ]
  },
  {
   "cell_type": "code",
   "execution_count": 272,
   "id": "9ee1139a",
   "metadata": {
    "cellId": "1j3i9kc920mwx555k8oq9k"
   },
   "outputs": [],
   "source": [
    "def filter_text(text):\n",
    "  res = []\n",
    "  tokens = nlp(text)\n",
    "  for token in tokens:\n",
    "    if token.is_alpha and not token.is_stop:\n",
    "      res.append(token.lemma_.lower())\n",
    "  return ' '.join(res)"
   ]
  },
  {
   "cell_type": "code",
   "execution_count": 275,
   "id": "bd102ef1",
   "metadata": {
    "cellId": "jze5cchn9is0h7eogq878"
   },
   "outputs": [],
   "source": [
    "X_train = np.array([filter_text(str(x)) for x in X_train])"
   ]
  },
  {
   "cell_type": "code",
   "execution_count": 276,
   "id": "b2dcb9bd",
   "metadata": {
    "cellId": "yjmmc223yuln71alirdq88"
   },
   "outputs": [],
   "source": [
    "X_test = np.array([filter_text(str(x)) for x in X_test])"
   ]
  },
  {
   "cell_type": "markdown",
   "id": "3fc65e5f",
   "metadata": {
    "cellId": "81s7gri9dpqrixs87koo6b",
    "execution_id": "51fbb4b8-5ada-4e9d-9763-799bd6c90cee"
   },
   "source": [
    "# Использование fasttext"
   ]
  },
  {
   "cell_type": "markdown",
   "id": "a294e348",
   "metadata": {
    "cellId": "w3ztuj9ho4tet6o8zxi1e",
    "execution_id": "1527e6b5-1935-4d68-a8ac-798468ad5cc8"
   },
   "source": [
    "## Скачиваем придобученные м-беддинги для русского языка"
   ]
  },
  {
   "cell_type": "code",
   "execution_count": 201,
   "id": "0bf64e5a",
   "metadata": {
    "cellId": "353trltc8h3nona5cav6sb"
   },
   "outputs": [
    {
     "data": {
      "text/plain": [
       "'cc.ru.300.bin'"
      ]
     },
     "execution_count": 201,
     "metadata": {},
     "output_type": "execute_result"
    }
   ],
   "source": [
    "fasttext.util.download_model('ru', if_exists='ignore')"
   ]
  },
  {
   "cell_type": "code",
   "execution_count": 279,
   "id": "ba073035",
   "metadata": {
    "cellId": "puptn407g9sqj74s098l"
   },
   "outputs": [
    {
     "name": "stderr",
     "output_type": "stream",
     "text": [
      "Warning : `load_model` does not return WordVectorModel or SupervisedModel any more, but a `FastText` object which is very similar.\n"
     ]
    }
   ],
   "source": [
    "ft = fasttext.load_model('cc.ru.300.bin')"
   ]
  },
  {
   "cell_type": "markdown",
   "id": "21b74442",
   "metadata": {
    "cellId": "d5w3rit946lm7ucy2speu",
    "execution_id": "b6520edf-e22b-4867-b45e-bbf51b1c0a5c"
   },
   "source": [
    "Убедимся, что размерность действительно 300, как в названии"
   ]
  },
  {
   "cell_type": "code",
   "execution_count": 203,
   "id": "74818f85",
   "metadata": {
    "cellId": "gy5hcp4wq39kq8tokb0g5"
   },
   "outputs": [
    {
     "data": {
      "text/plain": [
       "300"
      ]
     },
     "execution_count": 203,
     "metadata": {},
     "output_type": "execute_result"
    }
   ],
   "source": [
    "ft.get_dimension()"
   ]
  },
  {
   "cell_type": "markdown",
   "id": "33bc5469",
   "metadata": {
    "cellId": "eperbejuz5i96alf2u135t",
    "execution_id": "bca63361-0132-430d-954f-8fe745dc6edc"
   },
   "source": [
    "## Применяем fasttext к датасету"
   ]
  },
  {
   "cell_type": "code",
   "execution_count": 280,
   "id": "0e4811f7",
   "metadata": {
    "cellId": "ny00v5izqhkm4zt21gh06e"
   },
   "outputs": [
    {
     "data": {
      "text/plain": [
       "(957, 300)"
      ]
     },
     "execution_count": 280,
     "metadata": {},
     "output_type": "execute_result"
    }
   ],
   "source": [
    "X_ft_train = np.array([ft[row] for row in X_train])\n",
    "X_ft_train.shape"
   ]
  },
  {
   "cell_type": "code",
   "execution_count": 281,
   "id": "267d0504",
   "metadata": {
    "cellId": "pkmsmfwr1zebhm6pnfoqtd"
   },
   "outputs": [
    {
     "data": {
      "text/plain": [
       "(125, 300)"
      ]
     },
     "execution_count": 281,
     "metadata": {},
     "output_type": "execute_result"
    }
   ],
   "source": [
    "X_ft_test = np.array([ft[row] for row in X_test])\n",
    "X_ft_test.shape"
   ]
  },
  {
   "cell_type": "markdown",
   "id": "a343bec2",
   "metadata": {
    "cellId": "em8nz5ysfxg2wvi7v3ar9u",
    "execution_id": "a5a17127-dbdd-493c-ae88-ed0c986ee0f3"
   },
   "source": [
    "# Создаем DataLoader для дальнейшего использования"
   ]
  },
  {
   "cell_type": "code",
   "execution_count": 282,
   "id": "135d610e",
   "metadata": {
    "cellId": "xk8db7j2wclvy21yf8i1j"
   },
   "outputs": [],
   "source": [
    "train_loader = DataLoader([(X_ft_train[i], y_train[i]) for i in range(X_ft_train.shape[0])], shuffle=True, batch_size=50)\n",
    "test_loader = DataLoader([(X_ft_test[i], y_test[i]) for i in range(X_ft_test.shape[0])], shuffle=False, batch_size=50)"
   ]
  },
  {
   "cell_type": "markdown",
   "id": "0dc4fe1e",
   "metadata": {
    "cellId": "l2jr729recif4b05u8q5cl",
    "execution_id": "e6f9095f-918e-46ef-99e7-fdb1d2ee428a"
   },
   "source": [
    "# Обучение ML-модели"
   ]
  },
  {
   "cell_type": "markdown",
   "id": "6ca2b05b",
   "metadata": {
    "cellId": "8x3yzrn38g5l6h6nrv01pl",
    "execution_id": "d0589102-8cf0-48d9-b20e-1523f2fb5d94"
   },
   "source": [
    "В качестве ML-модели был выбран случайный лес с числом деревьев 100"
   ]
  },
  {
   "cell_type": "code",
   "execution_count": 283,
   "id": "26a9c55d",
   "metadata": {
    "cellId": "tvdow8aueifsllqrnav6a"
   },
   "outputs": [],
   "source": [
    "model = RandomForestClassifier()"
   ]
  },
  {
   "cell_type": "code",
   "execution_count": 284,
   "id": "9b8989ac",
   "metadata": {
    "cellId": "tov52wv4l4m466rqpgxyb1"
   },
   "outputs": [
    {
     "data": {
      "text/html": [
       "<style>#sk-container-id-1 {color: black;background-color: white;}#sk-container-id-1 pre{padding: 0;}#sk-container-id-1 div.sk-toggleable {background-color: white;}#sk-container-id-1 label.sk-toggleable__label {cursor: pointer;display: block;width: 100%;margin-bottom: 0;padding: 0.3em;box-sizing: border-box;text-align: center;}#sk-container-id-1 label.sk-toggleable__label-arrow:before {content: \"▸\";float: left;margin-right: 0.25em;color: #696969;}#sk-container-id-1 label.sk-toggleable__label-arrow:hover:before {color: black;}#sk-container-id-1 div.sk-estimator:hover label.sk-toggleable__label-arrow:before {color: black;}#sk-container-id-1 div.sk-toggleable__content {max-height: 0;max-width: 0;overflow: hidden;text-align: left;background-color: #f0f8ff;}#sk-container-id-1 div.sk-toggleable__content pre {margin: 0.2em;color: black;border-radius: 0.25em;background-color: #f0f8ff;}#sk-container-id-1 input.sk-toggleable__control:checked~div.sk-toggleable__content {max-height: 200px;max-width: 100%;overflow: auto;}#sk-container-id-1 input.sk-toggleable__control:checked~label.sk-toggleable__label-arrow:before {content: \"▾\";}#sk-container-id-1 div.sk-estimator input.sk-toggleable__control:checked~label.sk-toggleable__label {background-color: #d4ebff;}#sk-container-id-1 div.sk-label input.sk-toggleable__control:checked~label.sk-toggleable__label {background-color: #d4ebff;}#sk-container-id-1 input.sk-hidden--visually {border: 0;clip: rect(1px 1px 1px 1px);clip: rect(1px, 1px, 1px, 1px);height: 1px;margin: -1px;overflow: hidden;padding: 0;position: absolute;width: 1px;}#sk-container-id-1 div.sk-estimator {font-family: monospace;background-color: #f0f8ff;border: 1px dotted black;border-radius: 0.25em;box-sizing: border-box;margin-bottom: 0.5em;}#sk-container-id-1 div.sk-estimator:hover {background-color: #d4ebff;}#sk-container-id-1 div.sk-parallel-item::after {content: \"\";width: 100%;border-bottom: 1px solid gray;flex-grow: 1;}#sk-container-id-1 div.sk-label:hover label.sk-toggleable__label {background-color: #d4ebff;}#sk-container-id-1 div.sk-serial::before {content: \"\";position: absolute;border-left: 1px solid gray;box-sizing: border-box;top: 0;bottom: 0;left: 50%;z-index: 0;}#sk-container-id-1 div.sk-serial {display: flex;flex-direction: column;align-items: center;background-color: white;padding-right: 0.2em;padding-left: 0.2em;position: relative;}#sk-container-id-1 div.sk-item {position: relative;z-index: 1;}#sk-container-id-1 div.sk-parallel {display: flex;align-items: stretch;justify-content: center;background-color: white;position: relative;}#sk-container-id-1 div.sk-item::before, #sk-container-id-1 div.sk-parallel-item::before {content: \"\";position: absolute;border-left: 1px solid gray;box-sizing: border-box;top: 0;bottom: 0;left: 50%;z-index: -1;}#sk-container-id-1 div.sk-parallel-item {display: flex;flex-direction: column;z-index: 1;position: relative;background-color: white;}#sk-container-id-1 div.sk-parallel-item:first-child::after {align-self: flex-end;width: 50%;}#sk-container-id-1 div.sk-parallel-item:last-child::after {align-self: flex-start;width: 50%;}#sk-container-id-1 div.sk-parallel-item:only-child::after {width: 0;}#sk-container-id-1 div.sk-dashed-wrapped {border: 1px dashed gray;margin: 0 0.4em 0.5em 0.4em;box-sizing: border-box;padding-bottom: 0.4em;background-color: white;}#sk-container-id-1 div.sk-label label {font-family: monospace;font-weight: bold;display: inline-block;line-height: 1.2em;}#sk-container-id-1 div.sk-label-container {text-align: center;}#sk-container-id-1 div.sk-container {/* jupyter's `normalize.less` sets `[hidden] { display: none; }` but bootstrap.min.css set `[hidden] { display: none !important; }` so we also need the `!important` here to be able to override the default hidden behavior on the sphinx rendered scikit-learn.org. See: https://github.com/scikit-learn/scikit-learn/issues/21755 */display: inline-block !important;position: relative;}#sk-container-id-1 div.sk-text-repr-fallback {display: none;}</style><div id=\"sk-container-id-1\" class=\"sk-top-container\"><div class=\"sk-text-repr-fallback\"><pre>RandomForestClassifier()</pre><b>In a Jupyter environment, please rerun this cell to show the HTML representation or trust the notebook. <br />On GitHub, the HTML representation is unable to render, please try loading this page with nbviewer.org.</b></div><div class=\"sk-container\" hidden><div class=\"sk-item\"><div class=\"sk-estimator sk-toggleable\"><input class=\"sk-toggleable__control sk-hidden--visually\" id=\"sk-estimator-id-1\" type=\"checkbox\" checked><label for=\"sk-estimator-id-1\" class=\"sk-toggleable__label sk-toggleable__label-arrow\">RandomForestClassifier</label><div class=\"sk-toggleable__content\"><pre>RandomForestClassifier()</pre></div></div></div></div></div>"
      ],
      "text/plain": [
       "RandomForestClassifier()"
      ]
     },
     "execution_count": 284,
     "metadata": {},
     "output_type": "execute_result"
    }
   ],
   "source": [
    "model.fit(X_ft_train, y_train)"
   ]
  },
  {
   "cell_type": "markdown",
   "id": "067eace0",
   "metadata": {
    "cellId": "eqfhouszcjc505ei36zss8",
    "execution_id": "53a4b211-5b2e-4f7a-9671-053ea8fc4e43"
   },
   "source": [
    "Увидим, что точность очень маленькая. Скорее всего это связано с тем, что в датасете представлено слишком мало примеров"
   ]
  },
  {
   "cell_type": "code",
   "execution_count": 285,
   "id": "2c86d931",
   "metadata": {
    "cellId": "ztbha9u2ja35yy9eedmun"
   },
   "outputs": [
    {
     "data": {
      "text/plain": [
       "0.504"
      ]
     },
     "execution_count": 285,
     "metadata": {},
     "output_type": "execute_result"
    }
   ],
   "source": [
    "model.score(X_ft_test, y_test)"
   ]
  },
  {
   "cell_type": "markdown",
   "id": "f0a22068",
   "metadata": {
    "cellId": "34khynkv8uv0eehz22q034s",
    "execution_id": "9dd6bdd9-830f-4781-8ea6-41aac46069ca"
   },
   "source": [
    "## Обучение CNN"
   ]
  },
  {
   "cell_type": "code",
   "execution_count": 213,
   "id": "b8b397e1",
   "metadata": {
    "cellId": "2h8t7k0b8u5hcfoq9rxbtb"
   },
   "outputs": [],
   "source": [
    "device = torch.device(\"cuda:0\" if torch.cuda.is_available() else \"cpu\")\n",
    "\n",
    "def get_accuracy(data_loader, model):\n",
    "    tp = 0\n",
    "    n = 0\n",
    "    with torch.no_grad():\n",
    "        for images, labels in data_loader:\n",
    "            labels = labels.to(device)\n",
    "            images = images.to(device)\n",
    "            outputs = model(images)\n",
    "            _, predicted = torch.max(outputs.data, 1)\n",
    "            n += labels.size(0)\n",
    "            tp += (predicted == labels).sum()\n",
    "    return tp / n"
   ]
  },
  {
   "cell_type": "markdown",
   "id": "962c2ac6",
   "metadata": {
    "cellId": "k8k8xks3rhhhqnfso0c55",
    "execution_id": "c20a6992-0026-4dd4-a0da-7c6a8d4f83ab"
   },
   "source": [
    "Зададим модель следующим образом"
   ]
  },
  {
   "cell_type": "code",
   "execution_count": 246,
   "id": "a629460f",
   "metadata": {
    "cellId": "pdznxppjxxbg7jp9q4my8i"
   },
   "outputs": [],
   "source": [
    "class CNNModel(nn.Module):\n",
    "    def __init__(self, embed_size, hidden_size, num_classes=6):\n",
    "        super().__init__()\n",
    "        self.cnn = nn.Sequential(\n",
    "            nn.Conv1d(embed_size, hidden_size, kernel_size=3, padding=1, stride=2),\n",
    "            nn.BatchNorm1d(hidden_size),\n",
    "            nn.ReLU(),\n",
    "\n",
    "            nn.Conv1d(hidden_size, hidden_size, kernel_size=3, padding=1, stride=2),\n",
    "            nn.BatchNorm1d(hidden_size),\n",
    "            nn.ReLU(),\n",
    "\n",
    "            nn.Conv1d(hidden_size, hidden_size, kernel_size=3, padding=1, stride=2),\n",
    "            nn.BatchNorm1d(hidden_size),\n",
    "            nn.ReLU(),\n",
    "\n",
    "            nn.AdaptiveMaxPool1d(1),\n",
    "            nn.Flatten(),\n",
    "        )\n",
    "        self.cl = nn.Sequential(nn.Linear(hidden_size, num_classes)        )\n",
    "\n",
    "    def forward(self, x):\n",
    "        x = self.cnn(x.reshape(x.shape[0], x.shape[1], -1))\n",
    "        prediction = self.cl(x)\n",
    "        return prediction"
   ]
  },
  {
   "cell_type": "code",
   "execution_count": 287,
   "id": "eafecdec",
   "metadata": {
    "cellId": "zj9opq0bqqpn6bepymu6wp"
   },
   "outputs": [
    {
     "name": "stdout",
     "output_type": "stream",
     "text": [
      "Epoch 0\n",
      "    accuracy on train data : 0.8725183010101318\n",
      "    accuracy on test data : 0.3919999897480011\n",
      "    epoch_time = 0 min, 0 sec\n",
      "Epoch 1\n",
      "    accuracy on train data : 0.8725183010101318\n",
      "    accuracy on test data : 0.3919999897480011\n",
      "    epoch_time = 0 min, 0 sec\n",
      "Epoch 2\n",
      "    accuracy on train data : 0.8725183010101318\n",
      "    accuracy on test data : 0.3919999897480011\n",
      "    epoch_time = 0 min, 0 sec\n",
      "Epoch 3\n",
      "    accuracy on train data : 0.9352142214775085\n",
      "    accuracy on test data : 0.5120000243186951\n",
      "    epoch_time = 0 min, 0 sec\n",
      "Epoch 4\n",
      "    accuracy on train data : 0.9644722938537598\n",
      "    accuracy on test data : 0.5440000295639038\n",
      "    epoch_time = 0 min, 0 sec\n",
      "Epoch 5\n",
      "    accuracy on train data : 0.9696969985961914\n",
      "    accuracy on test data : 0.5360000133514404\n",
      "    epoch_time = 0 min, 0 sec\n",
      "Epoch 6\n",
      "    accuracy on train data : 0.9759665727615356\n",
      "    accuracy on test data : 0.5440000295639038\n",
      "    epoch_time = 0 min, 0 sec\n",
      "Epoch 7\n",
      "    accuracy on train data : 0.9791013598442078\n",
      "    accuracy on test data : 0.527999997138977\n",
      "    epoch_time = 0 min, 0 sec\n",
      "Epoch 8\n",
      "    accuracy on train data : 0.9686520099639893\n",
      "    accuracy on test data : 0.5440000295639038\n",
      "    epoch_time = 0 min, 0 sec\n",
      "Epoch 9\n",
      "    accuracy on train data : 0.9749216437339783\n",
      "    accuracy on test data : 0.47999998927116394\n",
      "    epoch_time = 0 min, 0 sec\n",
      "Epoch 10\n",
      "    accuracy on train data : 0.9801462888717651\n",
      "    accuracy on test data : 0.5440000295639038\n",
      "    epoch_time = 0 min, 0 sec\n",
      "Epoch 11\n",
      "    accuracy on train data : 0.9958202838897705\n",
      "    accuracy on test data : 0.5199999809265137\n",
      "    epoch_time = 0 min, 0 sec\n",
      "Epoch 12\n",
      "    accuracy on train data : 0.9885057210922241\n",
      "    accuracy on test data : 0.5519999861717224\n",
      "    epoch_time = 0 min, 0 sec\n",
      "Epoch 13\n",
      "    accuracy on train data : 0.991640567779541\n",
      "    accuracy on test data : 0.5519999861717224\n",
      "    epoch_time = 0 min, 0 sec\n",
      "Epoch 14\n",
      "    accuracy on train data : 0.991640567779541\n",
      "    accuracy on test data : 0.5680000185966492\n",
      "    epoch_time = 0 min, 0 sec\n",
      "Epoch 15\n",
      "    accuracy on train data : 0.991640567779541\n",
      "    accuracy on test data : 0.5519999861717224\n",
      "    epoch_time = 0 min, 0 sec\n",
      "Epoch 16\n",
      "    accuracy on train data : 0.9864158630371094\n",
      "    accuracy on test data : 0.5360000133514404\n",
      "    epoch_time = 0 min, 0 sec\n",
      "Epoch 17\n",
      "    accuracy on train data : 0.9874607920646667\n",
      "    accuracy on test data : 0.5199999809265137\n",
      "    epoch_time = 0 min, 0 sec\n",
      "Epoch 18\n",
      "    accuracy on train data : 0.9905956387519836\n",
      "    accuracy on test data : 0.5360000133514404\n",
      "    epoch_time = 0 min, 0 sec\n",
      "Epoch 19\n",
      "    accuracy on train data : 0.9968652129173279\n",
      "    accuracy on test data : 0.5120000243186951\n",
      "    epoch_time = 0 min, 0 sec\n"
     ]
    }
   ],
   "source": [
    "model = CNNModel(X_ft_train.shape[1], 10)\n",
    "\n",
    "learning_rate = 0.01\n",
    "num_epochs = 20\n",
    "\n",
    "loss_function = nn.CrossEntropyLoss()\n",
    "optimizer = torch.optim.Adam(model.parameters(), lr = learning_rate)\n",
    "\n",
    "total_time = 0\n",
    "\n",
    "for epoch in range(num_epochs):\n",
    "    start = time.time()\n",
    "    for i, (images, labels) in enumerate(train_loader):\n",
    "        optimizer.zero_grad()\n",
    "        \n",
    "        images = images.to(device)\n",
    "        labels = labels.to(device)\n",
    "        \n",
    "        outputs = model(images)\n",
    "        loss = loss_function(outputs, labels)\n",
    "\n",
    "        loss.backward()\n",
    "        optimizer.step()\n",
    "    epoch_time = time.time() - start\n",
    "    total_time += epoch_time\n",
    "\n",
    "    print(f'Epoch {epoch}')\n",
    "    print(f'    accuracy on train data : {get_accuracy(train_loader, model)}')\n",
    "    print(f'    accuracy on test data : {get_accuracy(test_loader, model)}')\n",
    "    print(f'    epoch_time = {int(epoch_time // 60)} min, {int(epoch_time % 60)} sec')"
   ]
  },
  {
   "cell_type": "markdown",
   "id": "b760005a",
   "metadata": {
    "cellId": "2j5kyexm29474yv4yjot4q",
    "execution_id": "86511a2a-097c-4da2-9981-a7a3c7225133"
   },
   "source": [
    "# Выводы"
   ]
  },
  {
   "cell_type": "markdown",
   "id": "3694e8f3",
   "metadata": {
    "cellId": "ujst70jrneh40swd697bf",
    "execution_id": "0acbbd5b-f065-4bb1-b8f5-4c46beb9416c"
   },
   "source": [
    "Даже с использованием CNN точность оказалась очень плохой. Всего 55% на тестовой выборке. Возможно, это связано с тем, что данных слишком мало.\n",
    "\n",
    "Но можно сказать что классификация возможна, если использовать датасет с большим количеством примеров."
   ]
  }
 ],
 "metadata": {
  "language_info": {
   "codemirror_mode": {
    "name": "ipython",
    "version": 3
   },
   "file_extension": ".py",
   "mimetype": "text/x-python",
   "name": "python",
   "nbconvert_exporter": "python",
   "pygments_lexer": "ipython3",
   "version": "3.7.7"
  },
  "notebookId": "7f115a8a-7dc4-40d6-85b5-b7fee89de8e5",
  "notebookPath": "Untitled.ipynb"
 },
 "nbformat": 4,
 "nbformat_minor": 5
}
